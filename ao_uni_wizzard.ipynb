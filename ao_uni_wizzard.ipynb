{
  "cells":[
    {
      "cell_type":"markdown",
      "source":[
        "# AcademiaOne Uni Recommender\n",
        "\n",
        "Description..."
      ],
      "metadata":{
        
      }
    },
    {
      "cell_type":"code",
      "source":[
        "import pandas as pd\n",
        "import numpy as np\n",
        "from scipy import sparse\n",
        "\n",
        "from sklearn.pipeline import make_pipeline\n",
        "from sklearn.feature_extraction.text import CountVectorizer\n",
        "from sklearn.preprocessing import OneHotEncoder, StandardScaler\n",
        "from sklearn.compose import ColumnTransformer, make_column_transformer, make_column_selector\n",
        "from sklearn.feature_extraction.text import CountVectorizer\n",
        "from sklearn.feature_extraction.text import TfidfVectorizer\n",
        "from sklearn.pipeline import make_pipeline\n",
        "from sklearn.metrics import accuracy_score\n",
        "from sklearn.model_selection import train_test_split, cross_val_score\n",
        "from sklearn.linear_model import LogisticRegression\n",
        "\n",
        "from sklearn.compose import ColumnTransformer\n",
        "from sklearn.pipeline import Pipeline\n",
        "\n",
        "import pickle"
      ],
      "execution_count":2,
      "outputs":[
        
      ],
      "metadata":{
        
      }
    },
    {
      "cell_type":"markdown",
      "source":[
        "## Raw data pre-processing\n",
        "- load the raw data\n",
        "- rename collumns\n",
        "- remove the ID column\n",
        "- drop incomplete entries\n",
        "- split the dataset"
      ],
      "metadata":{
        
      }
    },
    {
      "cell_type":"code",
      "source":[
        "df = pd.read_csv('raw_data\/AO_df_15Feb_withunimajor.csv')\n",
        "df.head()"
      ],
      "execution_count":3,
      "outputs":[
        {
          "data":{
            "text\/html":[
              "<div>\n",
              "<style scoped>\n",
              "    .dataframe tbody tr th:only-of-type {\n",
              "        vertical-align: middle;\n",
              "    }\n",
              "\n",
              "    .dataframe tbody tr th {\n",
              "        vertical-align: top;\n",
              "    }\n",
              "\n",
              "    .dataframe thead th {\n",
              "        text-align: right;\n",
              "    }\n",
              "<\/style>\n",
              "<table border=\"1\" class=\"dataframe\">\n",
              "  <thead>\n",
              "    <tr style=\"text-align: right;\">\n",
              "      <th><\/th>\n",
              "      <th>Unnamed: 0<\/th>\n",
              "      <th>Uni_name<\/th>\n",
              "      <th>Uni_Major<\/th>\n",
              "      <th>Uni_Jobs<\/th>\n",
              "      <th>Uni_Course_lectureres<\/th>\n",
              "      <th>Uni_Facilities<\/th>\n",
              "      <th>Uni_Local_life<\/th>\n",
              "      <th>Uni_Societies_sports<\/th>\n",
              "    <\/tr>\n",
              "  <\/thead>\n",
              "  <tbody>\n",
              "    <tr>\n",
              "      <th>0<\/th>\n",
              "      <td>0<\/td>\n",
              "      <td>University of Leeds<\/td>\n",
              "      <td>Accounting and Finance BSc (Hons)<\/td>\n",
              "      <td>2.0<\/td>\n",
              "      <td>1.0<\/td>\n",
              "      <td>0.0<\/td>\n",
              "      <td>4.0<\/td>\n",
              "      <td>4.0<\/td>\n",
              "    <\/tr>\n",
              "    <tr>\n",
              "      <th>1<\/th>\n",
              "      <td>1<\/td>\n",
              "      <td>University of Leeds<\/td>\n",
              "      <td>Geography BA (Hons)<\/td>\n",
              "      <td>3.0<\/td>\n",
              "      <td>2.0<\/td>\n",
              "      <td>1.0<\/td>\n",
              "      <td>3.0<\/td>\n",
              "      <td>0.0<\/td>\n",
              "    <\/tr>\n",
              "    <tr>\n",
              "      <th>2<\/th>\n",
              "      <td>2<\/td>\n",
              "      <td>University of Leeds<\/td>\n",
              "      <td>Chemical Engineering MEng (Hons)<\/td>\n",
              "      <td>4.0<\/td>\n",
              "      <td>4.0<\/td>\n",
              "      <td>0.0<\/td>\n",
              "      <td>0.0<\/td>\n",
              "      <td>1.0<\/td>\n",
              "    <\/tr>\n",
              "    <tr>\n",
              "      <th>3<\/th>\n",
              "      <td>3<\/td>\n",
              "      <td>University of Leeds<\/td>\n",
              "      <td>Genetics BSc (Hons)<\/td>\n",
              "      <td>4.0<\/td>\n",
              "      <td>3.0<\/td>\n",
              "      <td>4.0<\/td>\n",
              "      <td>4.0<\/td>\n",
              "      <td>0.0<\/td>\n",
              "    <\/tr>\n",
              "    <tr>\n",
              "      <th>4<\/th>\n",
              "      <td>4<\/td>\n",
              "      <td>University of Leeds<\/td>\n",
              "      <td>Art and Design BA (Hons)<\/td>\n",
              "      <td>2.0<\/td>\n",
              "      <td>1.0<\/td>\n",
              "      <td>3.0<\/td>\n",
              "      <td>1.0<\/td>\n",
              "      <td>3.0<\/td>\n",
              "    <\/tr>\n",
              "  <\/tbody>\n",
              "<\/table>\n",
              "<\/div>"
            ]
          },
          "metadata":{
            
          },
          "output_type":"display_data"
        }
      ],
      "metadata":{
        
      }
    },
    {
      "cell_type":"code",
      "source":[
        "df = df.rename(\n",
        "    columns={\n",
        "        'Uni_name':              'uni_name', \n",
        "        'Uni_Major':             'uni_major',\n",
        "        'Uni_Jobs':              'job_prospects', \n",
        "        'Uni_Course_lectureres': 'course_lectures',\n",
        "        'Uni_Facilities':        'facilities',\n",
        "        'Uni_Local_life':        'local_life', \n",
        "        'Uni_Societies_sports':  'societies_and_sports'\n",
        "        }\n",
        "    )\n",
        "df.head()"
      ],
      "execution_count":4,
      "outputs":[
        {
          "data":{
            "text\/html":[
              "<div>\n",
              "<style scoped>\n",
              "    .dataframe tbody tr th:only-of-type {\n",
              "        vertical-align: middle;\n",
              "    }\n",
              "\n",
              "    .dataframe tbody tr th {\n",
              "        vertical-align: top;\n",
              "    }\n",
              "\n",
              "    .dataframe thead th {\n",
              "        text-align: right;\n",
              "    }\n",
              "<\/style>\n",
              "<table border=\"1\" class=\"dataframe\">\n",
              "  <thead>\n",
              "    <tr style=\"text-align: right;\">\n",
              "      <th><\/th>\n",
              "      <th>Unnamed: 0<\/th>\n",
              "      <th>uni_name<\/th>\n",
              "      <th>uni_major<\/th>\n",
              "      <th>job_prospects<\/th>\n",
              "      <th>course_lectures<\/th>\n",
              "      <th>facilities<\/th>\n",
              "      <th>local_life<\/th>\n",
              "      <th>societies_and_sports<\/th>\n",
              "    <\/tr>\n",
              "  <\/thead>\n",
              "  <tbody>\n",
              "    <tr>\n",
              "      <th>0<\/th>\n",
              "      <td>0<\/td>\n",
              "      <td>University of Leeds<\/td>\n",
              "      <td>Accounting and Finance BSc (Hons)<\/td>\n",
              "      <td>2.0<\/td>\n",
              "      <td>1.0<\/td>\n",
              "      <td>0.0<\/td>\n",
              "      <td>4.0<\/td>\n",
              "      <td>4.0<\/td>\n",
              "    <\/tr>\n",
              "    <tr>\n",
              "      <th>1<\/th>\n",
              "      <td>1<\/td>\n",
              "      <td>University of Leeds<\/td>\n",
              "      <td>Geography BA (Hons)<\/td>\n",
              "      <td>3.0<\/td>\n",
              "      <td>2.0<\/td>\n",
              "      <td>1.0<\/td>\n",
              "      <td>3.0<\/td>\n",
              "      <td>0.0<\/td>\n",
              "    <\/tr>\n",
              "    <tr>\n",
              "      <th>2<\/th>\n",
              "      <td>2<\/td>\n",
              "      <td>University of Leeds<\/td>\n",
              "      <td>Chemical Engineering MEng (Hons)<\/td>\n",
              "      <td>4.0<\/td>\n",
              "      <td>4.0<\/td>\n",
              "      <td>0.0<\/td>\n",
              "      <td>0.0<\/td>\n",
              "      <td>1.0<\/td>\n",
              "    <\/tr>\n",
              "    <tr>\n",
              "      <th>3<\/th>\n",
              "      <td>3<\/td>\n",
              "      <td>University of Leeds<\/td>\n",
              "      <td>Genetics BSc (Hons)<\/td>\n",
              "      <td>4.0<\/td>\n",
              "      <td>3.0<\/td>\n",
              "      <td>4.0<\/td>\n",
              "      <td>4.0<\/td>\n",
              "      <td>0.0<\/td>\n",
              "    <\/tr>\n",
              "    <tr>\n",
              "      <th>4<\/th>\n",
              "      <td>4<\/td>\n",
              "      <td>University of Leeds<\/td>\n",
              "      <td>Art and Design BA (Hons)<\/td>\n",
              "      <td>2.0<\/td>\n",
              "      <td>1.0<\/td>\n",
              "      <td>3.0<\/td>\n",
              "      <td>1.0<\/td>\n",
              "      <td>3.0<\/td>\n",
              "    <\/tr>\n",
              "  <\/tbody>\n",
              "<\/table>\n",
              "<\/div>"
            ]
          },
          "metadata":{
            
          },
          "output_type":"display_data"
        }
      ],
      "metadata":{
        
      }
    },
    {
      "cell_type":"code",
      "source":[
        "# remove the ID columnn\n",
        "df.drop(columns='Unnamed: 0', inplace=True)\n",
        "df.head()"
      ],
      "execution_count":5,
      "outputs":[
        {
          "data":{
            "text\/html":[
              "<div>\n",
              "<style scoped>\n",
              "    .dataframe tbody tr th:only-of-type {\n",
              "        vertical-align: middle;\n",
              "    }\n",
              "\n",
              "    .dataframe tbody tr th {\n",
              "        vertical-align: top;\n",
              "    }\n",
              "\n",
              "    .dataframe thead th {\n",
              "        text-align: right;\n",
              "    }\n",
              "<\/style>\n",
              "<table border=\"1\" class=\"dataframe\">\n",
              "  <thead>\n",
              "    <tr style=\"text-align: right;\">\n",
              "      <th><\/th>\n",
              "      <th>uni_name<\/th>\n",
              "      <th>uni_major<\/th>\n",
              "      <th>job_prospects<\/th>\n",
              "      <th>course_lectures<\/th>\n",
              "      <th>facilities<\/th>\n",
              "      <th>local_life<\/th>\n",
              "      <th>societies_and_sports<\/th>\n",
              "    <\/tr>\n",
              "  <\/thead>\n",
              "  <tbody>\n",
              "    <tr>\n",
              "      <th>0<\/th>\n",
              "      <td>University of Leeds<\/td>\n",
              "      <td>Accounting and Finance BSc (Hons)<\/td>\n",
              "      <td>2.0<\/td>\n",
              "      <td>1.0<\/td>\n",
              "      <td>0.0<\/td>\n",
              "      <td>4.0<\/td>\n",
              "      <td>4.0<\/td>\n",
              "    <\/tr>\n",
              "    <tr>\n",
              "      <th>1<\/th>\n",
              "      <td>University of Leeds<\/td>\n",
              "      <td>Geography BA (Hons)<\/td>\n",
              "      <td>3.0<\/td>\n",
              "      <td>2.0<\/td>\n",
              "      <td>1.0<\/td>\n",
              "      <td>3.0<\/td>\n",
              "      <td>0.0<\/td>\n",
              "    <\/tr>\n",
              "    <tr>\n",
              "      <th>2<\/th>\n",
              "      <td>University of Leeds<\/td>\n",
              "      <td>Chemical Engineering MEng (Hons)<\/td>\n",
              "      <td>4.0<\/td>\n",
              "      <td>4.0<\/td>\n",
              "      <td>0.0<\/td>\n",
              "      <td>0.0<\/td>\n",
              "      <td>1.0<\/td>\n",
              "    <\/tr>\n",
              "    <tr>\n",
              "      <th>3<\/th>\n",
              "      <td>University of Leeds<\/td>\n",
              "      <td>Genetics BSc (Hons)<\/td>\n",
              "      <td>4.0<\/td>\n",
              "      <td>3.0<\/td>\n",
              "      <td>4.0<\/td>\n",
              "      <td>4.0<\/td>\n",
              "      <td>0.0<\/td>\n",
              "    <\/tr>\n",
              "    <tr>\n",
              "      <th>4<\/th>\n",
              "      <td>University of Leeds<\/td>\n",
              "      <td>Art and Design BA (Hons)<\/td>\n",
              "      <td>2.0<\/td>\n",
              "      <td>1.0<\/td>\n",
              "      <td>3.0<\/td>\n",
              "      <td>1.0<\/td>\n",
              "      <td>3.0<\/td>\n",
              "    <\/tr>\n",
              "  <\/tbody>\n",
              "<\/table>\n",
              "<\/div>"
            ]
          },
          "metadata":{
            
          },
          "output_type":"display_data"
        }
      ],
      "metadata":{
        
      }
    },
    {
      "cell_type":"code",
      "source":[
        "# here we drop incomplete rows\n",
        "clean_data = df.copy().dropna()\n",
        "clean_data.head()"
      ],
      "execution_count":6,
      "outputs":[
        {
          "data":{
            "text\/html":[
              "<div>\n",
              "<style scoped>\n",
              "    .dataframe tbody tr th:only-of-type {\n",
              "        vertical-align: middle;\n",
              "    }\n",
              "\n",
              "    .dataframe tbody tr th {\n",
              "        vertical-align: top;\n",
              "    }\n",
              "\n",
              "    .dataframe thead th {\n",
              "        text-align: right;\n",
              "    }\n",
              "<\/style>\n",
              "<table border=\"1\" class=\"dataframe\">\n",
              "  <thead>\n",
              "    <tr style=\"text-align: right;\">\n",
              "      <th><\/th>\n",
              "      <th>uni_name<\/th>\n",
              "      <th>uni_major<\/th>\n",
              "      <th>job_prospects<\/th>\n",
              "      <th>course_lectures<\/th>\n",
              "      <th>facilities<\/th>\n",
              "      <th>local_life<\/th>\n",
              "      <th>societies_and_sports<\/th>\n",
              "    <\/tr>\n",
              "  <\/thead>\n",
              "  <tbody>\n",
              "    <tr>\n",
              "      <th>0<\/th>\n",
              "      <td>University of Leeds<\/td>\n",
              "      <td>Accounting and Finance BSc (Hons)<\/td>\n",
              "      <td>2.0<\/td>\n",
              "      <td>1.0<\/td>\n",
              "      <td>0.0<\/td>\n",
              "      <td>4.0<\/td>\n",
              "      <td>4.0<\/td>\n",
              "    <\/tr>\n",
              "    <tr>\n",
              "      <th>1<\/th>\n",
              "      <td>University of Leeds<\/td>\n",
              "      <td>Geography BA (Hons)<\/td>\n",
              "      <td>3.0<\/td>\n",
              "      <td>2.0<\/td>\n",
              "      <td>1.0<\/td>\n",
              "      <td>3.0<\/td>\n",
              "      <td>0.0<\/td>\n",
              "    <\/tr>\n",
              "    <tr>\n",
              "      <th>2<\/th>\n",
              "      <td>University of Leeds<\/td>\n",
              "      <td>Chemical Engineering MEng (Hons)<\/td>\n",
              "      <td>4.0<\/td>\n",
              "      <td>4.0<\/td>\n",
              "      <td>0.0<\/td>\n",
              "      <td>0.0<\/td>\n",
              "      <td>1.0<\/td>\n",
              "    <\/tr>\n",
              "    <tr>\n",
              "      <th>3<\/th>\n",
              "      <td>University of Leeds<\/td>\n",
              "      <td>Genetics BSc (Hons)<\/td>\n",
              "      <td>4.0<\/td>\n",
              "      <td>3.0<\/td>\n",
              "      <td>4.0<\/td>\n",
              "      <td>4.0<\/td>\n",
              "      <td>0.0<\/td>\n",
              "    <\/tr>\n",
              "    <tr>\n",
              "      <th>4<\/th>\n",
              "      <td>University of Leeds<\/td>\n",
              "      <td>Art and Design BA (Hons)<\/td>\n",
              "      <td>2.0<\/td>\n",
              "      <td>1.0<\/td>\n",
              "      <td>3.0<\/td>\n",
              "      <td>1.0<\/td>\n",
              "      <td>3.0<\/td>\n",
              "    <\/tr>\n",
              "  <\/tbody>\n",
              "<\/table>\n",
              "<\/div>"
            ]
          },
          "metadata":{
            
          },
          "output_type":"display_data"
        }
      ],
      "metadata":{
        
      }
    },
    {
      "cell_type":"code",
      "source":[
        "# let's also do some investigation \n",
        "print('before: ' + str(df.shape[0]))\n",
        "print('afer:   ' + str(clean_data.shape[0]))\n",
        "\n",
        "# let's see the situation per column\n",
        "print()\n",
        "for column in df:\n",
        "    print(column + \": \" + str(df[column].isna().sum()))"
      ],
      "execution_count":7,
      "outputs":[
        {
          "name":"stdout",
          "text":[
            "before: 3238\n",
            "afer:   2397\n",
            "\n",
            "uni_name: 0\n",
            "uni_major: 841\n",
            "job_prospects: 0\n",
            "course_lectures: 0\n",
            "facilities: 0\n",
            "local_life: 0\n",
            "societies_and_sports: 0\n"
          ],
          "output_type":"stream"
        }
      ],
      "metadata":{
        
      }
    },
    {
      "cell_type":"markdown",
      "source":[
        "**Observation:** As per this uni major renders a solid chunk of the dataset useless.\n",
        "\n",
        "**Observation:** I noticed plenty of zeros in numerical features -- is that OK or should those also be taken care of?"
      ],
      "metadata":{
        
      }
    },
    {
      "cell_type":"code",
      "source":[
        "# how about numerical part - what are we working with?\n",
        "print(clean_data.nunique())\n",
        "clean_data.describe()"
      ],
      "execution_count":8,
      "outputs":[
        {
          "name":"stdout",
          "text":[
            "uni_name                 19\n",
            "uni_major               852\n",
            "job_prospects             5\n",
            "course_lectures           5\n",
            "facilities                5\n",
            "local_life                5\n",
            "societies_and_sports      5\n",
            "dtype: int64\n"
          ],
          "output_type":"stream"
        },
        {
          "data":{
            "text\/html":[
              "<div>\n",
              "<style scoped>\n",
              "    .dataframe tbody tr th:only-of-type {\n",
              "        vertical-align: middle;\n",
              "    }\n",
              "\n",
              "    .dataframe tbody tr th {\n",
              "        vertical-align: top;\n",
              "    }\n",
              "\n",
              "    .dataframe thead th {\n",
              "        text-align: right;\n",
              "    }\n",
              "<\/style>\n",
              "<table border=\"1\" class=\"dataframe\">\n",
              "  <thead>\n",
              "    <tr style=\"text-align: right;\">\n",
              "      <th><\/th>\n",
              "      <th>job_prospects<\/th>\n",
              "      <th>course_lectures<\/th>\n",
              "      <th>facilities<\/th>\n",
              "      <th>local_life<\/th>\n",
              "      <th>societies_and_sports<\/th>\n",
              "    <\/tr>\n",
              "  <\/thead>\n",
              "  <tbody>\n",
              "    <tr>\n",
              "      <th>count<\/th>\n",
              "      <td>2397.000000<\/td>\n",
              "      <td>2397.000000<\/td>\n",
              "      <td>2397.000000<\/td>\n",
              "      <td>2397.000000<\/td>\n",
              "      <td>2397.000000<\/td>\n",
              "    <\/tr>\n",
              "    <tr>\n",
              "      <th>mean<\/th>\n",
              "      <td>2.264497<\/td>\n",
              "      <td>2.695035<\/td>\n",
              "      <td>2.554443<\/td>\n",
              "      <td>2.090530<\/td>\n",
              "      <td>1.981227<\/td>\n",
              "    <\/tr>\n",
              "    <tr>\n",
              "      <th>std<\/th>\n",
              "      <td>1.773755<\/td>\n",
              "      <td>1.640736<\/td>\n",
              "      <td>1.678966<\/td>\n",
              "      <td>1.839031<\/td>\n",
              "      <td>1.820647<\/td>\n",
              "    <\/tr>\n",
              "    <tr>\n",
              "      <th>min<\/th>\n",
              "      <td>0.000000<\/td>\n",
              "      <td>0.000000<\/td>\n",
              "      <td>0.000000<\/td>\n",
              "      <td>0.000000<\/td>\n",
              "      <td>0.000000<\/td>\n",
              "    <\/tr>\n",
              "    <tr>\n",
              "      <th>25%<\/th>\n",
              "      <td>0.000000<\/td>\n",
              "      <td>1.000000<\/td>\n",
              "      <td>0.000000<\/td>\n",
              "      <td>0.000000<\/td>\n",
              "      <td>0.000000<\/td>\n",
              "    <\/tr>\n",
              "    <tr>\n",
              "      <th>50%<\/th>\n",
              "      <td>3.000000<\/td>\n",
              "      <td>3.000000<\/td>\n",
              "      <td>3.000000<\/td>\n",
              "      <td>3.000000<\/td>\n",
              "      <td>3.000000<\/td>\n",
              "    <\/tr>\n",
              "    <tr>\n",
              "      <th>75%<\/th>\n",
              "      <td>4.000000<\/td>\n",
              "      <td>4.000000<\/td>\n",
              "      <td>4.000000<\/td>\n",
              "      <td>4.000000<\/td>\n",
              "      <td>4.000000<\/td>\n",
              "    <\/tr>\n",
              "    <tr>\n",
              "      <th>max<\/th>\n",
              "      <td>4.000000<\/td>\n",
              "      <td>4.000000<\/td>\n",
              "      <td>4.000000<\/td>\n",
              "      <td>4.000000<\/td>\n",
              "      <td>4.000000<\/td>\n",
              "    <\/tr>\n",
              "  <\/tbody>\n",
              "<\/table>\n",
              "<\/div>"
            ]
          },
          "metadata":{
            
          },
          "output_type":"display_data"
        }
      ],
      "metadata":{
        
      }
    },
    {
      "cell_type":"code",
      "source":[
        "# let's see the distribution of entries across unis\n",
        "#print(df.groupby(by='uni_name')['uni_name'].count())\n",
        "df['uni_name'].value_counts()"
      ],
      "execution_count":9,
      "outputs":[
        {
          "data":{
            "text\/plain":[
              "University of York                             181\n",
              "Lancaster University                           181\n",
              "University of Manchester                       181\n",
              "University of Leeds                            181\n",
              "University of Edinburgh                        181\n",
              "University of Southampton                      181\n",
              "University of Glasgow                          181\n",
              "University of Warwick                          181\n",
              "University of Sheffield                        180\n",
              "University of Bristol                          180\n",
              "King's College London, University of London    180\n",
              "UCL (University College London)                180\n",
              "Durham University                              170\n",
              "University of Nottingham                       170\n",
              "University of Aberdeen                         160\n",
              "Queen Mary University of London                150\n",
              "University of Cambridge                        150\n",
              "Imperial College London                        140\n",
              "University of Oxford                           130\n",
              "Name: uni_name, dtype: int64"
            ]
          },
          "metadata":{
            
          },
          "output_type":"display_data"
        }
      ],
      "metadata":{
        
      }
    },
    {
      "cell_type":"code",
      "source":[
        "# ...and simiilar for majors\n",
        "df.groupby(by='uni_major')['uni_major'].describe()"
      ],
      "execution_count":10,
      "outputs":[
        {
          "data":{
            "text\/html":[
              "<div>\n",
              "<style scoped>\n",
              "    .dataframe tbody tr th:only-of-type {\n",
              "        vertical-align: middle;\n",
              "    }\n",
              "\n",
              "    .dataframe tbody tr th {\n",
              "        vertical-align: top;\n",
              "    }\n",
              "\n",
              "    .dataframe thead th {\n",
              "        text-align: right;\n",
              "    }\n",
              "<\/style>\n",
              "<table border=\"1\" class=\"dataframe\">\n",
              "  <thead>\n",
              "    <tr style=\"text-align: right;\">\n",
              "      <th><\/th>\n",
              "      <th>count<\/th>\n",
              "      <th>unique<\/th>\n",
              "      <th>top<\/th>\n",
              "      <th>freq<\/th>\n",
              "    <\/tr>\n",
              "    <tr>\n",
              "      <th>uni_major<\/th>\n",
              "      <th><\/th>\n",
              "      <th><\/th>\n",
              "      <th><\/th>\n",
              "      <th><\/th>\n",
              "    <\/tr>\n",
              "  <\/thead>\n",
              "  <tbody>\n",
              "    <tr>\n",
              "      <th>Accountancy and Finance MA (Hons)<\/th>\n",
              "      <td>1<\/td>\n",
              "      <td>1<\/td>\n",
              "      <td>Accountancy and Finance MA (Hons)<\/td>\n",
              "      <td>1<\/td>\n",
              "    <\/tr>\n",
              "    <tr>\n",
              "      <th>Accountancy with International Accounting BAcc (Hons)<\/th>\n",
              "      <td>1<\/td>\n",
              "      <td>1<\/td>\n",
              "      <td>Accountancy with International Accounting BAcc...<\/td>\n",
              "      <td>1<\/td>\n",
              "    <\/tr>\n",
              "    <tr>\n",
              "      <th>Accounting BSc (Hons)<\/th>\n",
              "      <td>3<\/td>\n",
              "      <td>1<\/td>\n",
              "      <td>Accounting BSc (Hons)<\/td>\n",
              "      <td>3<\/td>\n",
              "    <\/tr>\n",
              "    <tr>\n",
              "      <th>Accounting and Finance (Industry) BSc (Hons)<\/th>\n",
              "      <td>1<\/td>\n",
              "      <td>1<\/td>\n",
              "      <td>Accounting and Finance (Industry) BSc (Hons)<\/td>\n",
              "      <td>1<\/td>\n",
              "    <\/tr>\n",
              "    <tr>\n",
              "      <th>Accounting and Finance BA (Hons)<\/th>\n",
              "      <td>1<\/td>\n",
              "      <td>1<\/td>\n",
              "      <td>Accounting and Finance BA (Hons)<\/td>\n",
              "      <td>1<\/td>\n",
              "    <\/tr>\n",
              "    <tr>\n",
              "      <th>...<\/th>\n",
              "      <td>...<\/td>\n",
              "      <td>...<\/td>\n",
              "      <td>...<\/td>\n",
              "      <td>...<\/td>\n",
              "    <\/tr>\n",
              "    <tr>\n",
              "      <th>War Studies BA (Hons)<\/th>\n",
              "      <td>3<\/td>\n",
              "      <td>1<\/td>\n",
              "      <td>War Studies BA (Hons)<\/td>\n",
              "      <td>3<\/td>\n",
              "    <\/tr>\n",
              "    <tr>\n",
              "      <th>War Studies MA<\/th>\n",
              "      <td>2<\/td>\n",
              "      <td>1<\/td>\n",
              "      <td>War Studies MA<\/td>\n",
              "      <td>2<\/td>\n",
              "    <\/tr>\n",
              "    <tr>\n",
              "      <th>World History BA (Hons)<\/th>\n",
              "      <td>3<\/td>\n",
              "      <td>1<\/td>\n",
              "      <td>World History BA (Hons)<\/td>\n",
              "      <td>3<\/td>\n",
              "    <\/tr>\n",
              "    <tr>\n",
              "      <th>Zoology BSc (Hons)<\/th>\n",
              "      <td>18<\/td>\n",
              "      <td>1<\/td>\n",
              "      <td>Zoology BSc (Hons)<\/td>\n",
              "      <td>18<\/td>\n",
              "    <\/tr>\n",
              "    <tr>\n",
              "      <th>Zoology DPhil<\/th>\n",
              "      <td>1<\/td>\n",
              "      <td>1<\/td>\n",
              "      <td>Zoology DPhil<\/td>\n",
              "      <td>1<\/td>\n",
              "    <\/tr>\n",
              "  <\/tbody>\n",
              "<\/table>\n",
              "<p>852 rows × 4 columns<\/p>\n",
              "<\/div>"
            ]
          },
          "metadata":{
            
          },
          "output_type":"display_data"
        }
      ],
      "metadata":{
        
      }
    },
    {
      "cell_type":"markdown",
      "source":[
        "**Observation:** are we missing representation for one uni or there is supposed to 19 of them?\n",
        "\n",
        "**Observation:** (we discussed this in our call) 852 seems to be one too many distinct majors. In the description of majors we see many of the same but just different in the official title you receive -- maybe the uni_major feature could be expanded into two separate features -- e.g. \"Accounting and Finance MSc\" -> (\"Accounting and Finance\", \"MSc\")?"
      ],
      "metadata":{
        
      }
    },
    {
      "cell_type":"code",
      "source":[
        "#X = clean_data\n",
        "X = clean_data[['uni_major', 'job_prospects', 'course_lectures', 'facilities', 'local_life', 'societies_and_sports']]\n",
        "X.head()"
      ],
      "execution_count":11,
      "outputs":[
        {
          "data":{
            "text\/html":[
              "<div>\n",
              "<style scoped>\n",
              "    .dataframe tbody tr th:only-of-type {\n",
              "        vertical-align: middle;\n",
              "    }\n",
              "\n",
              "    .dataframe tbody tr th {\n",
              "        vertical-align: top;\n",
              "    }\n",
              "\n",
              "    .dataframe thead th {\n",
              "        text-align: right;\n",
              "    }\n",
              "<\/style>\n",
              "<table border=\"1\" class=\"dataframe\">\n",
              "  <thead>\n",
              "    <tr style=\"text-align: right;\">\n",
              "      <th><\/th>\n",
              "      <th>uni_major<\/th>\n",
              "      <th>job_prospects<\/th>\n",
              "      <th>course_lectures<\/th>\n",
              "      <th>facilities<\/th>\n",
              "      <th>local_life<\/th>\n",
              "      <th>societies_and_sports<\/th>\n",
              "    <\/tr>\n",
              "  <\/thead>\n",
              "  <tbody>\n",
              "    <tr>\n",
              "      <th>0<\/th>\n",
              "      <td>Accounting and Finance BSc (Hons)<\/td>\n",
              "      <td>2.0<\/td>\n",
              "      <td>1.0<\/td>\n",
              "      <td>0.0<\/td>\n",
              "      <td>4.0<\/td>\n",
              "      <td>4.0<\/td>\n",
              "    <\/tr>\n",
              "    <tr>\n",
              "      <th>1<\/th>\n",
              "      <td>Geography BA (Hons)<\/td>\n",
              "      <td>3.0<\/td>\n",
              "      <td>2.0<\/td>\n",
              "      <td>1.0<\/td>\n",
              "      <td>3.0<\/td>\n",
              "      <td>0.0<\/td>\n",
              "    <\/tr>\n",
              "    <tr>\n",
              "      <th>2<\/th>\n",
              "      <td>Chemical Engineering MEng (Hons)<\/td>\n",
              "      <td>4.0<\/td>\n",
              "      <td>4.0<\/td>\n",
              "      <td>0.0<\/td>\n",
              "      <td>0.0<\/td>\n",
              "      <td>1.0<\/td>\n",
              "    <\/tr>\n",
              "    <tr>\n",
              "      <th>3<\/th>\n",
              "      <td>Genetics BSc (Hons)<\/td>\n",
              "      <td>4.0<\/td>\n",
              "      <td>3.0<\/td>\n",
              "      <td>4.0<\/td>\n",
              "      <td>4.0<\/td>\n",
              "      <td>0.0<\/td>\n",
              "    <\/tr>\n",
              "    <tr>\n",
              "      <th>4<\/th>\n",
              "      <td>Art and Design BA (Hons)<\/td>\n",
              "      <td>2.0<\/td>\n",
              "      <td>1.0<\/td>\n",
              "      <td>3.0<\/td>\n",
              "      <td>1.0<\/td>\n",
              "      <td>3.0<\/td>\n",
              "    <\/tr>\n",
              "  <\/tbody>\n",
              "<\/table>\n",
              "<\/div>"
            ]
          },
          "metadata":{
            
          },
          "output_type":"display_data"
        }
      ],
      "metadata":{
        
      }
    },
    {
      "cell_type":"code",
      "source":[
        "#y = clean_data.pop('uni_name')\n",
        "y = clean_data['uni_name']\n",
        "y.head()"
      ],
      "execution_count":12,
      "outputs":[
        {
          "data":{
            "text\/plain":[
              "0    University of Leeds\n",
              "1    University of Leeds\n",
              "2    University of Leeds\n",
              "3    University of Leeds\n",
              "4    University of Leeds\n",
              "Name: uni_name, dtype: object"
            ]
          },
          "metadata":{
            
          },
          "output_type":"display_data"
        }
      ],
      "metadata":{
        
      }
    },
    {
      "cell_type":"code",
      "source":[
        "X_train, X_test, y_train, y_test = train_test_split(\n",
        "    X, y, test_size=0.2, stratify=y, random_state=2018)"
      ],
      "execution_count":13,
      "outputs":[
        
      ],
      "metadata":{
        
      }
    },
    {
      "cell_type":"markdown",
      "source":[
        "## Training the model\n",
        "\n",
        "Current model description...\n",
        "\n",
        "TODO:\n",
        "    - ..."
      ],
      "metadata":{
        
      }
    },
    {
      "cell_type":"code",
      "source":[
        "# Setting the vectorizer just like we would set a model\n",
        "TfidfVec = TfidfVectorizer(\n",
        "    # sublinear_tf=True,\n",
        "    max_df=0.3,\n",
        "    max_features=10000,\n",
        "    norm='l2'\n",
        ")\n",
        "\n",
        "# Fitting the vectorizer on our training data\n",
        "temp = TfidfVec.fit_transform(X['uni_major'])\n",
        "\n",
        "fnames = TfidfVec.get_feature_names()\n",
        "print(fnames)\n",
        "print('num of features: ' + str(len(fnames)))\n",
        "print(temp.shape)"
      ],
      "execution_count":14,
      "outputs":[
        {
          "name":"stdout",
          "text":[
            "['11', '18', 'abroad', 'accountancy', 'accounting', 'actuarial', 'administration', 'adult', 'advance', 'advanced', 'advertising', 'aerodynamics', 'aeronautical', 'aeronautics', 'aerospace', 'affairs', 'american', 'an', 'analysis', 'analytics', 'ancient', 'and', 'anglo', 'animation', 'anthropology', 'applied', 'arabic', 'archaeology', 'architectural', 'architecture', 'art', 'artificial', 'arts', 'asian', 'astronautics', 'astronomy', 'astrophysics', 'at', 'automotive', 'ba', 'bacc', 'baecom', 'banking', 'barch', 'basc', 'based', 'bass', 'bds', 'behavioural', 'beng', 'bfa', 'big', 'biochemical', 'biochemistry', 'bioengineering', 'biological', 'biology', 'biomedical', 'biomedicine', 'bioprocessing', 'biosciences', 'biotechnology', 'bmbch', 'bmbs', 'bmid', 'bmus', 'bnurs', 'brain', 'bristol', 'bs', 'bsocsc', 'business', 'bvms', 'by', 'canadian', 'cardiac', 'cdt', 'cell', 'celtic', 'certificate', 'chain', 'change', 'chb', 'chemical', 'chemistry', 'child', 'children', 'chinese', 'city', 'civil', 'civilisation', 'classical', 'classics', 'climate', 'clinical', 'cognitive', 'combined', 'commercial', 'common', 'communications', 'community', 'comparative', 'composition', 'computer', 'computing', 'conservation', 'contemporary', 'conversion', 'corporate', 'cosmology', 'creative', 'creativities', 'crime', 'criminal', 'criminology', 'cultural', 'culture', 'cultures', 'data', 'dclinpsy', 'decision', 'dental', 'dentistry', 'dentsci', 'deployment', 'design', 'development', 'developmental', 'diagnostic', 'digital', 'diploma', 'diplomacy', 'directing', 'distance', 'doctorate', 'dphil', 'drama', 'dtp', 'earth', 'eastern', 'ecology', 'econ', 'economic', 'economics', 'economy', 'education', 'electrical', 'electroacoustic', 'electronic', 'electronics', 'embryology', 'endodontics', 'energy', 'eng', 'engd', 'engineering', 'english', 'enterprise', 'entrepreneurship', 'entry', 'environment', 'environmental', 'equal', 'erasmus', 'ethnicity', 'european', 'exercise', 'experience', 'experimental', 'fashion', 'fields', 'film', 'finance', 'financial', 'fine', 'fluent', 'food', 'for', 'forces', 'forensic', 'foundation', 'french', 'freshwater', 'fundamental', 'future', 'gaelic', 'general', 'genetics', 'genomic', 'genomics', 'geography', 'geology', 'geophysics', 'geoscience', 'geospatial', 'german', 'global', 'government', 'graduate', 'graduates', 'health', 'healthcare', 'heritage', 'hispanic', 'history', 'honours', 'human', 'humanities', 'ie', 'imaging', 'immunity', 'immunology', 'in', 'including', 'inclusive', 'ind', 'industrial', 'industries', 'industry', 'infection', 'inflammation', 'information', 'innovation', 'inorganic', 'integrated', 'intelligence', 'international', 'interpretation', 'intm', 'investment', 'islamic', 'iss', 'italian', 'japanese', 'joint', 'journalism', 'justice', 'korean', 'land', 'landscape', 'language', 'languages', 'latin', 'law', 'leadership', 'learners', 'learning', 'legal', 'liberal', 'lincoln', 'linguistics', 'literary', 'literature', 'llb', 'llm', 'local', 'logistics', 'ma', 'macc', 'machine', 'maitrise', 'management', 'manufacture', 'manufacturing', 'mapping', 'marine', 'marketing', 'markets', 'mast', 'master', 'masters', 'materials', 'mathematical', 'mathematics', 'maxillofacial', 'mb', 'mbiol', 'mbiomedsci', 'mchem', 'mcomp', 'mechanical', 'mechatronic', 'media', 'medical', 'medicinal', 'medicine', 'medieval', 'medsci', 'meng', 'mental', 'meteorology', 'methods', 'microbiology', 'middle', 'midwifery', 'mlitt', 'mmath', 'mmathstat', 'mmedsci', 'mmorse', 'mn', 'mobility', 'modern', 'molecular', 'morse', 'mpa', 'mph', 'mpharm', 'mphil', 'mphys', 'mres', 'msc', 'msci', 'multiculturalism', 'multimedia', 'mundus', 'music', 'nanoscience', 'nanotechnology', 'national', 'natural', 'nerc', 'neuropsychology', 'neuroscience', 'norse', 'nursing', 'nutrition', 'oceanography', 'of', 'online', 'only', 'open', 'operational', 'option', 'optometry', 'or', 'oral', 'organization', 'other', 'palaeoanthropology', 'palaeobiology', 'partnership', 'pathway', 'performance', 'petroleum', 'pg', 'pgce', 'pgcert', 'pgde', 'pgdip', 'pharmaceutical', 'pharmacology', 'pharmacy', 'phd', 'philosophy', 'photography', 'phys', 'physical', 'physics', 'physiology', 'physiotherapy', 'placement', 'planetary', 'planning', 'plant', 'policy', 'political', 'politics', 'population', 'portuguese', 'postgraduate', 'ppe', 'practice', 'practices', 'pre', 'primary', 'product', 'production', 'professional', 'promotion', 'psycholinguistics', 'psychological', 'psychology', 'public', 'pure', 'quantitative', 'quantum', 'radiography', 'recording', 'rehabilitation', 'relations', 'religion', 'research', 'rights', 'robotic', 'russian', 'saxon', 'science', 'sciences', 'scientific', 'scots', 'scottish', 'screen', 'secondary', 'security', 'semester', 'singapore', 'social', 'society', 'sociology', 'socsci', 'software', 'sound', 'spacecraft', 'spanish', 'speakers', 'speech', 'sport', 'sports', 'statistical', 'statistics', 'strategic', 'strategy', 'structural', 'studies', 'study', 'supply', 'surgery', 'sustainability', 'sustainable', 'systems', 'tax', 'teaching', 'technologies', 'technology', 'television', 'terrorism', 'tesol', 'the', 'theatre', 'theology', 'theoretical', 'theory', 'therapy', 'thought', 'to', 'trade', 'translation', 'transnational', 'transport', 'university', 'urban', 'veterinary', 'visual', 'war', 'water', 'with', 'women', 'work', 'world', 'writing', 'year', 'years', 'yr', 'yrs', 'zoology']\n",
            "num of features: 466\n",
            "(2397, 466)\n"
          ],
          "output_type":"stream"
        }
      ],
      "metadata":{
        
      }
    },
    {
      "cell_type":"code",
      "source":[
        "preprocessor = ColumnTransformer([\n",
        "    ('corpus', TfidfVec, 'uni_major'), \n",
        "    ('numerical', StandardScaler(), \n",
        "         ['job_prospects', 'course_lectures', 'facilities', 'local_life', 'societies_and_sports'])\n",
        "    ], \n",
        "    remainder = 'drop', # treatment for remaining columns\n",
        "    sparse_threshold=1) # set threshold for fraction of nonzero entries \n",
        "                        # to return dense array rather than sparse matrix"
      ],
      "execution_count":15,
      "outputs":[
        
      ],
      "metadata":{
        
      }
    },
    {
      "cell_type":"code",
      "source":[
        "clf = Pipeline(steps=[('preprocessor', preprocessor),\n",
        "                      ('classifier', LogisticRegression(penalty='none', multi_class='ovr', solver='lbfgs', max_iter=10000))])"
      ],
      "execution_count":16,
      "outputs":[
        
      ],
      "metadata":{
        
      }
    },
    {
      "cell_type":"code",
      "source":[
        "# let's try to ignore the uni_major entirely\n",
        "# (including the dropped entries)\n",
        "temp_data = df.copy()\n",
        "X1 = temp_data[['job_prospects', 'course_lectures', 'facilities', 'local_life', 'societies_and_sports']]\n",
        "y1 = temp_data['uni_name']\n",
        "\n",
        "X1_train, X1_test, y1_train, y1_test = train_test_split(\n",
        "    X1, y1, test_size=0.2, stratify=y1, random_state=2018)\n",
        "X1.head()\n",
        "y1.head()\n",
        "model = LogisticRegression(solver='lbfgs', max_iter=1000).fit(X1_train, y1_train)\n",
        "model.score(X1_test, y1_test)"
      ],
      "execution_count":17,
      "outputs":[
        {
          "data":{
            "text\/plain":[
              "0.08333333333333333"
            ]
          },
          "metadata":{
            
          },
          "output_type":"display_data"
        }
      ],
      "metadata":{
        
      }
    },
    {
      "cell_type":"code",
      "source":[
        "#clf.fit(X_train, y_train)\n",
        "clf.fit(X_train, y_train)"
      ],
      "execution_count":18,
      "outputs":[
        {
          "data":{
            "text\/plain":[
              "Pipeline(steps=[('preprocessor',\n",
              "                 ColumnTransformer(sparse_threshold=1,\n",
              "                                   transformers=[('corpus',\n",
              "                                                  TfidfVectorizer(max_df=0.3,\n",
              "                                                                  max_features=10000),\n",
              "                                                  'uni_major'),\n",
              "                                                 ('numerical', StandardScaler(),\n",
              "                                                  ['job_prospects',\n",
              "                                                   'course_lectures',\n",
              "                                                   'facilities', 'local_life',\n",
              "                                                   'societies_and_sports'])])),\n",
              "                ('classifier',\n",
              "                 LogisticRegression(max_iter=10000, multi_class='ovr',\n",
              "                                    penalty='none'))])"
            ]
          },
          "metadata":{
            
          },
          "output_type":"display_data"
        }
      ],
      "metadata":{
        
      }
    },
    {
      "cell_type":"code",
      "source":[
        "#cross_val_score(clf, X_train, y_train, cv=5).mean()\n",
        "cross_val_score(clf, X_train, y_train, cv=5)"
      ],
      "execution_count":19,
      "outputs":[
        {
          "data":{
            "text\/plain":[
              "array([0.39583333, 0.3828125 , 0.41775457, 0.4151436 , 0.39425587])"
            ]
          },
          "metadata":{
            
          },
          "output_type":"display_data"
        }
      ],
      "metadata":{
        
      }
    },
    {
      "cell_type":"code",
      "source":[
        "clf.score(X_test, y_test)"
      ],
      "execution_count":20,
      "outputs":[
        {
          "data":{
            "text\/plain":[
              "0.45208333333333334"
            ]
          },
          "metadata":{
            
          },
          "output_type":"display_data"
        }
      ],
      "metadata":{
        
      }
    },
    {
      "cell_type":"code",
      "source":[
        "#y_train_pred = clf.predict(X_train)\n",
        "#y_pred = clf.predict(X_test)"
      ],
      "execution_count":21,
      "outputs":[
        
      ],
      "metadata":{
        
      }
    },
    {
      "cell_type":"code",
      "source":[
        "#y_train_pred"
      ],
      "execution_count":22,
      "outputs":[
        
      ],
      "metadata":{
        
      }
    },
    {
      "cell_type":"code",
      "source":[
        "#X_train"
      ],
      "execution_count":23,
      "outputs":[
        
      ],
      "metadata":{
        
      }
    },
    {
      "cell_type":"code",
      "source":[
        "#X_train.iloc[2, :]\n",
        "#y\n",
        "#X_test\n",
        "#X_test.iloc[2, :]"
      ],
      "execution_count":24,
      "outputs":[
        
      ],
      "metadata":{
        
      }
    },
    {
      "cell_type":"code",
      "source":[
        "#dataframe = pd.DataFrame(X_test.iloc[2, :])   "
      ],
      "execution_count":25,
      "outputs":[
        
      ],
      "metadata":{
        
      }
    },
    {
      "cell_type":"code",
      "source":[
        "#dataframe_reshaped = dataframe.transpose(copy=False)"
      ],
      "execution_count":26,
      "outputs":[
        
      ],
      "metadata":{
        
      }
    },
    {
      "cell_type":"code",
      "source":[
        "#clf.predict(dataframe_reshaped)\n",
        "#X_test"
      ],
      "execution_count":27,
      "outputs":[
        
      ],
      "metadata":{
        
      }
    },
    {
      "cell_type":"markdown",
      "source":[
        "## Package the model\n",
        "..."
      ],
      "metadata":{
        
      }
    },
    {
      "cell_type":"code",
      "source":[
        "pickle.dump(clf, open('models\/uni_wizz_v0.pkl', 'wb'))"
      ],
      "execution_count":44,
      "outputs":[
        
      ],
      "metadata":{
        
      }
    },
    {
      "cell_type":"code",
      "source":[
        "tmm = pickle.load(open('models\/uni_wizz_v0.pkl', 'rb')) "
      ],
      "execution_count":45,
      "outputs":[
        
      ],
      "metadata":{
        
      }
    },
    {
      "cell_type":"code",
      "source":[
        "#print(type(tmm.predict(X_test.iloc[1,:])))\n",
        "raw_features = {\"uni_major\" : \"computer science\", \n",
        "                \"job_prospects\" : 4,\n",
        "                \"course_lectures\" : 3,\n",
        "                \"facilities\" : 2,\n",
        "                \"local_life\" : 3,\n",
        "                \"societies_and_sports\" : 4}\n",
        "final_features = pd.DataFrame([raw_features.values()], columns=raw_features.keys())\n",
        "print(final_features)\n",
        "\n",
        "print(str(tmm.predict(final_features)[0]))"
      ],
      "execution_count":52,
      "outputs":[
        {
          "name":"stdout",
          "text":[
            "          uni_major  job_prospects  course_lectures  facilities  local_life  \\\n",
            "0  computer science              4                3           2           3   \n",
            "\n",
            "   societies_and_sports  \n",
            "0                     4  \n",
            "University of Warwick\n"
          ],
          "output_type":"stream"
        }
      ],
      "metadata":{
        
      }
    }
  ],
  "metadata":{
    
  },
  "nbformat":4,
  "nbformat_minor":0
}